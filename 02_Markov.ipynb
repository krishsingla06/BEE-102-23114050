{
 "cells": [
  {
   "cell_type": "code",
   "execution_count": 1,
   "id": "629b0fc7",
   "metadata": {},
   "outputs": [],
   "source": [
    "import pandas as pd\n",
    "import numpy as np"
   ]
  },
  {
   "cell_type": "markdown",
   "id": "7c40dd6c",
   "metadata": {},
   "source": [
    "A random sequence is taken, else we can take a sequence from a file\n",
    "\n",
    "And then I have created a dummy dataframe to store the transition matrix"
   ]
  },
  {
   "cell_type": "code",
   "execution_count": 2,
   "id": "2454738d",
   "metadata": {},
   "outputs": [],
   "source": [
    "s = 'GTTCTACTTGCGGACGGATCGTAACCGAACTGGCCCGGATCTTTCATCCTCATGTAGATGCACAAAAGGTTCATCTAATAGTACTACCTCTTCTACTCGC'\n",
    "arr = [[0,0,0,0],[0,0,0,0],[0,0,0,0],[0,0,0,0]]\n",
    "df = pd.DataFrame(arr)"
   ]
  },
  {
   "cell_type": "markdown",
   "id": "6658fd1b",
   "metadata": {},
   "source": [
    "Then I am simply running a for loop to iterate through the sequence and update the transition matrix\n",
    "\n",
    "At last I am dividing the transition matrix by the sum of each row to get the probabilities\n"
   ]
  },
  {
   "cell_type": "code",
   "execution_count": 3,
   "id": "daa76782",
   "metadata": {},
   "outputs": [],
   "source": [
    "df = df.astype(float)\n",
    "\n",
    "mp = {'A': 0, 'C': 1, 'G': 2, 'T': 3}\n",
    "\n",
    "\n",
    "\n",
    "for i in range(len(s) - 1):\n",
    "    df.iloc[mp[s[i]], mp[s[i+1]]] += 1.0\n",
    "\n",
    "for i in range(0, 4):\n",
    "    sum = 0.0\n",
    "    for j in range(0, 4):\n",
    "        sum += df.iloc[i, j]\n",
    "    for j in range(0, 4):\n",
    "        if sum != 0:\n",
    "            df.iloc[i, j] = df.iloc[i, j] / sum\n",
    "        else:\n",
    "            df.iloc[i, j] = 0.0\n",
    "\n",
    "    "
   ]
  },
  {
   "cell_type": "markdown",
   "id": "76265e75",
   "metadata": {},
   "source": [
    "Printing results"
   ]
  },
  {
   "cell_type": "code",
   "execution_count": 4,
   "id": "4d37b939",
   "metadata": {},
   "outputs": [
    {
     "name": "stdout",
     "output_type": "stream",
     "text": [
      "\n",
      "Markov Model - Transition matrix:\n",
      "          A         C         G         T\n",
      "A  0.250000  0.333333  0.125000  0.291667\n",
      "C  0.185185  0.185185  0.222222  0.407407\n",
      "G  0.263158  0.210526  0.263158  0.263158\n",
      "T  0.275862  0.379310  0.137931  0.206897\n"
     ]
    }
   ],
   "source": [
    "# Nucleotides\n",
    "kr = ['A', 'C', 'G', 'T']\n",
    "\n",
    "df.index = kr\n",
    "df.columns = kr\n",
    "print(\"\\nMarkov Model - Transition matrix:\")\n",
    "print(df)\n"
   ]
  }
 ],
 "metadata": {
  "kernelspec": {
   "display_name": "Python 3",
   "language": "python",
   "name": "python3"
  },
  "language_info": {
   "codemirror_mode": {
    "name": "ipython",
    "version": 3
   },
   "file_extension": ".py",
   "mimetype": "text/x-python",
   "name": "python",
   "nbconvert_exporter": "python",
   "pygments_lexer": "ipython3",
   "version": "3.12.6"
  }
 },
 "nbformat": 4,
 "nbformat_minor": 5
}
