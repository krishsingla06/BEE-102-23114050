{
 "cells": [
  {
   "cell_type": "markdown",
   "id": "d805b13c",
   "metadata": {},
   "source": [
    "Initially I am just definig the things like input file , output file and two strings"
   ]
  },
  {
   "cell_type": "code",
   "execution_count": 3,
   "id": "a4d35737",
   "metadata": {},
   "outputs": [],
   "source": [
    "ifl = '../multiline_input.fasta' # Input file\n",
    "ofl = 'singleline_output.fasta' # Output file\n",
    "\n",
    "ch = '' # current header\n",
    "cs = '' # current sequence"
   ]
  },
  {
   "cell_type": "markdown",
   "id": "ad1cf21f",
   "metadata": {},
   "source": [
    "My logic is simple, I read the input file line by line. If the line starts with '>', it indicates a header "
   ]
  },
  {
   "cell_type": "code",
   "execution_count": 4,
   "id": "5a39e18e",
   "metadata": {},
   "outputs": [
    {
     "name": "stdout",
     "output_type": "stream",
     "text": [
      "Conversion complete and Single-line FASTA saved in: singleline_output.fasta\n"
     ]
    }
   ],
   "source": [
    "with open(ifl, 'r') as infile, open(ofl, 'w') as outfile:\n",
    "    for line in infile:\n",
    "        line = line.strip()  \n",
    "        \n",
    "        if line[0] == '>':  \n",
    "            ch = line\n",
    "            outfile.write(cs + '\\n')  # Write header to output file\n",
    "            outfile.write(ch + '\\n')  # Write header to output file # We can comment it out if we want to remove the headers from the output file\n",
    "            cs = ''\n",
    "        else:\n",
    "            cs += line\n",
    "\n",
    "print(\"Conversion complete and Single-line FASTA saved in:\", ofl)\n",
    "    "
   ]
  }
 ],
 "metadata": {
  "kernelspec": {
   "display_name": "Python 3",
   "language": "python",
   "name": "python3"
  },
  "language_info": {
   "codemirror_mode": {
    "name": "ipython",
    "version": 3
   },
   "file_extension": ".py",
   "mimetype": "text/x-python",
   "name": "python",
   "nbconvert_exporter": "python",
   "pygments_lexer": "ipython3",
   "version": "3.12.6"
  }
 },
 "nbformat": 4,
 "nbformat_minor": 5
}
