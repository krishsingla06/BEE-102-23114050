{
 "cells": [
  {
   "cell_type": "code",
   "execution_count": 1,
   "id": "2ab036bb",
   "metadata": {},
   "outputs": [
    {
     "name": "stdout",
     "output_type": "stream",
     "text": [
      "Conversion complete and Single-line FASTA saved in: singleline_output.fasta\n"
     ]
    }
   ],
   "source": [
    "ifl = '../multiline_input.fasta' # Input file\n",
    "ofl = 'singleline_output.fasta' # Output file\n",
    "\n",
    "ch = '' # current header\n",
    "cs = '' # current sequence\n",
    "\n",
    "with open(ifl, 'r') as infile, open(ofl, 'w') as outfile:\n",
    "    for line in infile:\n",
    "        line = line.strip()  \n",
    "        \n",
    "        if line[0] == '>':  \n",
    "            ch = line\n",
    "            outfile.write(cs + '\\n')  # Write header to output file\n",
    "            outfile.write(ch + '\\n')  # Write header to output file # We can comment it out if we want to remove the headers from the output file\n",
    "            cs = ''\n",
    "        else:\n",
    "            cs += line\n",
    "    \n",
    "\n",
    "\n",
    "print(\"Conversion complete and Single-line FASTA saved in:\", ofl)\n",
    "\n",
    "\n"
   ]
  }
 ],
 "metadata": {
  "kernelspec": {
   "display_name": "Python 3",
   "language": "python",
   "name": "python3"
  },
  "language_info": {
   "codemirror_mode": {
    "name": "ipython",
    "version": 3
   },
   "file_extension": ".py",
   "mimetype": "text/x-python",
   "name": "python",
   "nbconvert_exporter": "python",
   "pygments_lexer": "ipython3",
   "version": "3.12.6"
  }
 },
 "nbformat": 4,
 "nbformat_minor": 5
}
