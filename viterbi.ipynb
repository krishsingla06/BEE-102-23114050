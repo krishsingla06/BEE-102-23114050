{
 "cells": [
  {
   "cell_type": "markdown",
   "id": "e5e1c39c",
   "metadata": {},
   "source": [
    "Just defining all the parameters for the model"
   ]
  },
  {
   "cell_type": "code",
   "execution_count": 1,
   "id": "600bfffc",
   "metadata": {},
   "outputs": [],
   "source": [
    "import math\n",
    "import numpy as np\n",
    "s = ['E', '5', 'I'] #states\n",
    "\n",
    "ep = { \n",
    "    'E': {'A':0.25, 'C':0.25, 'G':0.25, 'T':0.25},\n",
    "    '5': {'A':0.05, 'C':0, 'G':0.95, 'T':0},\n",
    "    'I': {'A':0.4, 'C':0.1, 'G':0.1, 'T':0.4}\n",
    "}\n",
    "\n",
    "tp = {\n",
    "    'START': {'E': 1, '5': 0, 'I': 0, 'END': 0},\n",
    "    'E': {'E': 0.9, '5': 0.1, 'I': 0, 'END': 0},\n",
    "    '5': {'E': 0, '5': 0, 'I': 1, 'END': 0},\n",
    "    'I': {'E': 0, '5': 0, 'I': 0.9, 'END': 0.1},\n",
    "    'END': {'E': 0, '5': 0, 'I': 0, 'END': 0}\n",
    "}\n",
    "\n",
    "seq = \"CTTCATGTGAAAGCAGACGTAAGTCA\"\n",
    "path =\"EEEEEEEEEEEEEEEEEE5IIIIIII\""
   ]
  },
  {
   "cell_type": "markdown",
   "id": "a93dfb65",
   "metadata": {},
   "source": [
    "Part(a) - Find probability given string and states path"
   ]
  },
  {
   "cell_type": "code",
   "execution_count": 2,
   "id": "fcb7bc20",
   "metadata": {},
   "outputs": [
    {
     "name": "stdout",
     "output_type": "stream",
     "text": [
      "-41.22\n"
     ]
    }
   ],
   "source": [
    "def getlogp(s, seq):\n",
    "    if len(s) != len(seq):\n",
    "        raise ValueError(\"State path and observed sequence must be of the same length.\")\n",
    "    \n",
    "    ans = 0\n",
    "    for i in range(len(s)):\n",
    "        state = s[i]\n",
    "        if i == 0:\n",
    "            ans += math.log(tp['START'][state])\n",
    "        else:\n",
    "            ans += math.log(tp[s[i-1]][state])\n",
    "        ans += math.log(ep[state][seq[i]])\n",
    "\n",
    "    ans += math.log(tp[s[-1]]['END'])\n",
    "    return ans\n",
    "\n",
    "print(round(getlogp(path, seq), 3))"
   ]
  },
  {
   "cell_type": "markdown",
   "id": "7cb3f3de",
   "metadata": {},
   "source": [
    "IMP - To get the answer according to Sir, he is not considering the last state to end, that's why we are getting path as Es itself only."
   ]
  },
  {
   "cell_type": "code",
   "execution_count": 3,
   "id": "167e3711",
   "metadata": {},
   "outputs": [
    {
     "name": "stdout",
     "output_type": "stream",
     "text": [
      "Most probable state sequence: ['E', 'E', 'E', 'E', 'E', 'E', 'E', 'E', 'E', 'E', 'E', 'E', 'E', 'E', 'E', 'E', 'E', 'E', 'E', 'E', 'E', 'E', 'E', 'E', 'E', 'E']\n",
      "Log probability of the most probable state sequence: -38.678\n"
     ]
    }
   ],
   "source": [
    "\n",
    "dp = [[0] * len(s) for _ in range(len(seq))]\n",
    "dp2 = [[0] * len(s) for _ in range(len(seq))]  \n",
    "\n",
    "for i in range(len(s)):\n",
    "    dp[0][i] = tp['START'][s[i]] * ep[s[i]][seq[0]]\n",
    "\n",
    "for i in range(1, len(seq)):\n",
    "    for j in range(len(s)):\n",
    "        maxiprob = 0\n",
    "        mxstate = 0\n",
    "        for k in range(len(s)):\n",
    "            prob = dp[i - 1][k] * tp[s[k]][s[j]] * ep[s[j]][seq[i]]\n",
    "            if prob > maxiprob:\n",
    "                maxiprob = prob\n",
    "                mxstate = k\n",
    "        dp[i][j] = maxiprob\n",
    "        dp2[i][j] = mxstate\n",
    "\n",
    "# for j in range(len(s)):\n",
    "#     dp[len(seq)][j] = dp[len(seq) - 1][j] * tp[s[j]]['END']\n",
    "\n",
    "maxiprob = 0\n",
    "mxstate = 0\n",
    "for j in range(len(s)):\n",
    "    if dp[len(seq)-1][j] > maxiprob:\n",
    "        maxiprob = dp[len(seq)-1][j]\n",
    "        mxstate = j\n",
    "\n",
    "finals = [0] * (len(seq) + 1)\n",
    "finals[len(seq)] = mxstate\n",
    "for i in range(len(seq) - 1, 0, -1):\n",
    "    finals[i] = dp2[i][finals[i + 1]]\n",
    "finals[0] = 'START'\n",
    "\n",
    "print(f\"Most probable state sequence: {[s[finals[i]] for i in range(1, len(seq) + 1)]}\")\n",
    "print(f\"Log probability of the most probable state sequence: {round(math.log(maxiprob), 3)}\")\n"
   ]
  },
  {
   "cell_type": "markdown",
   "id": "288c6a16",
   "metadata": {},
   "source": [
    "IMP - But if I consider the last state to end, then I am getting the same path as in Primer with exactly same probability."
   ]
  },
  {
   "cell_type": "code",
   "execution_count": 4,
   "id": "1c2949ee",
   "metadata": {},
   "outputs": [
    {
     "name": "stdout",
     "output_type": "stream",
     "text": [
      "Most probable state sequence: ['E', 'E', 'E', 'E', 'E', 'E', 'E', 'E', 'E', 'E', 'E', 'E', 'E', 'E', 'E', 'E', 'E', 'E', '5', 'I', 'I', 'I', 'I', 'I', 'I', 'I']\n",
      "Log probability of the given path: -41.22395196143138\n"
     ]
    }
   ],
   "source": [
    "\n",
    "dp = [[0] * len(s) for _ in range(len(seq) + 1)]\n",
    "dp2 = [[0] * len(s) for _ in range(len(seq) + 1)]  \n",
    "\n",
    "for i in range(len(s)):\n",
    "    dp[0][i] = tp['START'][s[i]] * ep[s[i]][seq[0]]\n",
    "\n",
    "for i in range(1, len(seq)):\n",
    "    for j in range(len(s)):\n",
    "        maxiprob = 0\n",
    "        mxstate = 0\n",
    "        for k in range(len(s)):\n",
    "            prob = dp[i - 1][k] * tp[s[k]][s[j]] * ep[s[j]][seq[i]]\n",
    "            if prob > maxiprob:\n",
    "                maxiprob = prob\n",
    "                mxstate = k\n",
    "        dp[i][j] = maxiprob\n",
    "        dp2[i][j] = mxstate\n",
    "\n",
    "for j in range(len(s)):\n",
    "    dp[len(seq)][j] = dp[len(seq) - 1][j] * tp[s[j]]['END']\n",
    "\n",
    "maxiprob = 0\n",
    "mxstate = 0\n",
    "for j in range(len(s)):\n",
    "    if dp[len(seq)][j] > maxiprob:\n",
    "        maxiprob = dp[len(seq)][j]\n",
    "        mxstate = j\n",
    "\n",
    "finals = [0] * (len(seq) + 1)\n",
    "finals[len(seq)] = mxstate\n",
    "for i in range(len(seq) - 1, 0, -1):\n",
    "    finals[i] = dp2[i][finals[i + 1]]\n",
    "finals[0] = 'START'\n",
    "\n",
    "\n",
    "print(f\"Most probable state sequence: {[s[finals[i]] for i in range(1, len(seq) + 1)]}\")\n",
    "print(f\"Log probability of the given path: {math.log(maxiprob, 2.718)}\")\n"
   ]
  }
 ],
 "metadata": {
  "kernelspec": {
   "display_name": "Python 3",
   "language": "python",
   "name": "python3"
  },
  "language_info": {
   "codemirror_mode": {
    "name": "ipython",
    "version": 3
   },
   "file_extension": ".py",
   "mimetype": "text/x-python",
   "name": "python",
   "nbconvert_exporter": "python",
   "pygments_lexer": "ipython3",
   "version": "3.12.6"
  }
 },
 "nbformat": 4,
 "nbformat_minor": 5
}
